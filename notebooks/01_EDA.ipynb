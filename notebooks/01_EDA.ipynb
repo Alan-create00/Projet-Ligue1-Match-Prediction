{
 "cells": [
  {
   "cell_type": "markdown",
   "id": "c2a6f60a",
   "metadata": {},
   "source": [
    "# 📊 01_EDA - Analyse exploratoire des données Ligue 1\n",
    "\n",
    "Ce notebook explore les données brutes dans `data/raw/` afin d'identifier des patterns intéressants pour la prédiction des résultats de matchs.\n",
    "\n",
    "## Structure\n",
    "- Données : `../data/raw/`\n",
    "- Résultats : exploration visuelle et statistique\n",
    "- Objectifs : détecter des corrélations, patterns temporels, et influence de la valeur des joueurs"
   ]
  },
  {
   "cell_type": "code",
   "execution_count": null,
   "id": "98172d5f",
   "metadata": {},
   "outputs": [],
   "source": [
    "# 📥 Importation des bibliothèques\n",
    "import pandas as pd\n",
    "import matplotlib.pyplot as plt\n",
    "import seaborn as sns\n",
    "from datetime import datetime\n",
    "import os"
   ]
  },
  {
   "cell_type": "code",
   "execution_count": null,
   "id": "d6b3b779",
   "metadata": {},
   "outputs": [],
   "source": [
    "# 📂 Chargement des fichiers depuis ../data/raw\n",
    "base_path = '../data/raw/'\n",
    "\n",
    "matches = pd.read_csv(os.path.join(base_path, 'matchs_2013_2022.csv'))\n",
    "valuations = pd.read_csv(os.path.join(base_path, 'player_valuation_before_season.csv'))\n",
    "appearances = pd.read_csv(os.path.join(base_path, 'player_appearance.csv'))\n",
    "clubs = pd.read_csv(os.path.join(base_path, 'clubs_fr.csv'))"
   ]
  },
  {
   "cell_type": "code",
   "execution_count": null,
   "id": "7faeb325",
   "metadata": {},
   "outputs": [],
   "source": [
    "# 🧼 Aperçu des données\n",
    "print(matches.shape)\n",
    "print(matches.columns)\n",
    "matches.head()"
   ]
  },
  {
   "cell_type": "markdown",
   "id": "ccf5e2f8",
   "metadata": {},
   "source": [
    "## 📅 Analyse temporelle des résultats par saison et mois"
   ]
  },
  {
   "cell_type": "code",
   "execution_count": null,
   "id": "2fd91d9e",
   "metadata": {},
   "outputs": [],
   "source": [
    "# Extraire année et mois\n",
    "df = matches.copy()\n",
    "df['date'] = pd.to_datetime(df['date'])\n",
    "df['year'] = df['date'].dt.year\n",
    "df['month'] = df['date'].dt.month\n",
    "\n",
    "plt.figure(figsize=(12, 6))\n",
    "sns.countplot(data=df, x='season', hue='results')\n",
    "plt.title('Distribution des résultats par saison')\n",
    "plt.legend(title='Résultat', labels=['Victoire ext (-1)', 'Nul (0)', 'Victoire dom (1)'])\n",
    "plt.xticks(rotation=45)\n",
    "plt.show()"
   ]
  },
  {
   "cell_type": "code",
   "execution_count": null,
   "id": "3d69ba0d",
   "metadata": {},
   "outputs": [],
   "source": [
    "# Résultats par mois\n",
    "plt.figure(figsize=(12, 6))\n",
    "sns.countplot(data=df, x='month', hue='results')\n",
    "plt.title('Distribution des résultats par mois')\n",
    "plt.legend(title='Résultat', labels=['Victoire ext (-1)', 'Nul (0)', 'Victoire dom (1)'])\n",
    "plt.xticks(rotation=45)\n",
    "plt.show()"
   ]
  },
  {
   "cell_type": "markdown",
   "id": "b436967b",
   "metadata": {},
   "source": [
    "## 💸 Les équipes les plus fortes économiquement gagnent-elles plus ?"
   ]
  },
  {
   "cell_type": "code",
   "execution_count": null,
   "id": "11c55f80",
   "metadata": {},
   "outputs": [],
   "source": [
    "# Valeur moyenne des joueurs par club et par an\n",
    "valuations['date'] = pd.to_datetime(valuations['date'])\n",
    "valuations['year'] = valuations['date'].dt.year\n",
    "team_valuation = valuations.groupby(['current_club_id', 'year'])['market_value_in_eur'].mean().reset_index()\n",
    "team_valuation.rename(columns={'market_value_in_eur': 'avg_market_value'}, inplace=True)\n",
    "team_valuation.head()"
   ]
  },
  {
   "cell_type": "markdown",
   "id": "5ac0a663",
   "metadata": {},
   "source": [
    "➡️ Prochaine étape : fusion avec les matchs pour relier valeur économique d’une équipe au résultat."
   ]
  },
  {
   "cell_type": "markdown",
   "id": "3489392b",
   "metadata": {},
   "source": [
    "## 🧠 Normalisation des valeurs de joueurs\n",
    "Nous testerons des méthodes comme StandardScaler, MinMaxScaler pour comparer leur impact sur les modèles."
   ]
  },
  {
   "cell_type": "markdown",
   "id": "b085180e",
   "metadata": {},
   "source": [
    "## 🔍 Corrélations futures\n",
    "Analyse de l’importance statistique de chaque variable avec les résultats (feature importance)."
   ]
  }
 ],
 "metadata": {},
 "nbformat": 4,
 "nbformat_minor": 5
}
